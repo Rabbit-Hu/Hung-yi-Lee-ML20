{
 "cells": [
  {
   "cell_type": "code",
   "execution_count": 425,
   "metadata": {},
   "outputs": [],
   "source": [
    "import numpy as np\n",
    "import pandas as pd\n",
    "import math"
   ]
  },
  {
   "cell_type": "markdown",
   "metadata": {},
   "source": [
    "## Load the .csv data"
   ]
  },
  {
   "cell_type": "code",
   "execution_count": 426,
   "metadata": {},
   "outputs": [],
   "source": [
    "train_data_path = \"train.csv\"\n",
    "test_data_path = \"test.csv\"\n",
    "raw_data = pd.read_csv(train_data_path, encoding=\"big5\")\n",
    "raw_test_data = pd.read_csv(test_data_path, encoding=\"big5\", header=None)\n",
    "raw_data[raw_data == \"NR\"] = 0\n",
    "raw_test_data[raw_test_data == \"NR\"] = 0"
   ]
  },
  {
   "cell_type": "markdown",
   "metadata": {},
   "source": [
    "## Explore the data"
   ]
  },
  {
   "cell_type": "code",
   "execution_count": 427,
   "metadata": {},
   "outputs": [
    {
     "output_type": "execute_result",
     "data": {
      "text/plain": "     0         1     2     3     4     5     6     7     8     9     10\n0  id_0  AMB_TEMP    21    21    20    20    19    19    19    18    17\n1  id_0       CH4   1.7   1.7   1.7   1.7   1.7   1.7   1.7   1.7   1.8\n2  id_0        CO  0.39  0.36  0.36   0.4  0.53  0.55  0.34  0.31  0.23\n3  id_0      NMHC  0.16  0.24  0.22  0.27  0.27  0.26  0.27  0.29   0.1\n4  id_0        NO   1.3   1.3   1.3   1.3   1.4   1.6   1.2   1.1   0.9",
      "text/html": "<div>\n<style scoped>\n    .dataframe tbody tr th:only-of-type {\n        vertical-align: middle;\n    }\n\n    .dataframe tbody tr th {\n        vertical-align: top;\n    }\n\n    .dataframe thead th {\n        text-align: right;\n    }\n</style>\n<table border=\"1\" class=\"dataframe\">\n  <thead>\n    <tr style=\"text-align: right;\">\n      <th></th>\n      <th>0</th>\n      <th>1</th>\n      <th>2</th>\n      <th>3</th>\n      <th>4</th>\n      <th>5</th>\n      <th>6</th>\n      <th>7</th>\n      <th>8</th>\n      <th>9</th>\n      <th>10</th>\n    </tr>\n  </thead>\n  <tbody>\n    <tr>\n      <th>0</th>\n      <td>id_0</td>\n      <td>AMB_TEMP</td>\n      <td>21</td>\n      <td>21</td>\n      <td>20</td>\n      <td>20</td>\n      <td>19</td>\n      <td>19</td>\n      <td>19</td>\n      <td>18</td>\n      <td>17</td>\n    </tr>\n    <tr>\n      <th>1</th>\n      <td>id_0</td>\n      <td>CH4</td>\n      <td>1.7</td>\n      <td>1.7</td>\n      <td>1.7</td>\n      <td>1.7</td>\n      <td>1.7</td>\n      <td>1.7</td>\n      <td>1.7</td>\n      <td>1.7</td>\n      <td>1.8</td>\n    </tr>\n    <tr>\n      <th>2</th>\n      <td>id_0</td>\n      <td>CO</td>\n      <td>0.39</td>\n      <td>0.36</td>\n      <td>0.36</td>\n      <td>0.4</td>\n      <td>0.53</td>\n      <td>0.55</td>\n      <td>0.34</td>\n      <td>0.31</td>\n      <td>0.23</td>\n    </tr>\n    <tr>\n      <th>3</th>\n      <td>id_0</td>\n      <td>NMHC</td>\n      <td>0.16</td>\n      <td>0.24</td>\n      <td>0.22</td>\n      <td>0.27</td>\n      <td>0.27</td>\n      <td>0.26</td>\n      <td>0.27</td>\n      <td>0.29</td>\n      <td>0.1</td>\n    </tr>\n    <tr>\n      <th>4</th>\n      <td>id_0</td>\n      <td>NO</td>\n      <td>1.3</td>\n      <td>1.3</td>\n      <td>1.3</td>\n      <td>1.3</td>\n      <td>1.4</td>\n      <td>1.6</td>\n      <td>1.2</td>\n      <td>1.1</td>\n      <td>0.9</td>\n    </tr>\n  </tbody>\n</table>\n</div>"
     },
     "metadata": {},
     "execution_count": 427
    }
   ],
   "source": [
    "raw_test_data.head()"
   ]
  },
  {
   "cell_type": "markdown",
   "metadata": {},
   "source": [
    "## Data Preprocessing (1)\n",
    "\n",
    "Concatenate all the hour-wise data of each month.\n",
    "\n",
    "Now there are 12 months in the dict \"month_data\", each is a 18*480 numpy."
   ]
  },
  {
   "cell_type": "code",
   "execution_count": 428,
   "metadata": {
    "tags": []
   },
   "outputs": [],
   "source": [
    "zdata = raw_data.iloc[:, 3:].to_numpy()\n",
    "month_data = {} # 12 months (0~11), 20 days per month => 480 hours per month\n",
    "for month in range(12):\n",
    "    cur_month_data = np.empty([18, 480])\n",
    "    for day in range(20):\n",
    "        cur_month_data[:, day*24: (day + 1) * 24] = data[(month * 20 + day) * 18: (month * 20 + day + 1) * 18, :]\n",
    "    month_data[month] = cur_month_data"
   ]
  },
  {
   "cell_type": "markdown",
   "metadata": {},
   "source": [
    "## Data Preprocessing (2)\n",
    "\n",
    "Extract every adjacent 10 hours. 12*471=5652 pieces of data can be extracted.\n",
    "\n",
    "For each piece of data, there are 18*9 features and one target (PM2.5).\n",
    "\n",
    "Shapes: \n",
    "\n",
    "- X: 5652*162\n",
    "- y: 5652"
   ]
  },
  {
   "cell_type": "code",
   "execution_count": 429,
   "metadata": {},
   "outputs": [],
   "source": [
    "X = np.empty([12*471, 18*9])\n",
    "y = np.empty([12*471])\n",
    "for month in range(12):\n",
    "    for hour in range(471):\n",
    "        X[month * 471 + hour] = month_data[month][:, hour: hour + 9].flatten()\n",
    "        y[month * 471 + hour] = month_data[month][9, hour + 9]"
   ]
  },
  {
   "cell_type": "markdown",
   "metadata": {},
   "source": [
    "## Normalization\n",
    "\n",
    "Compute mean and std of X, and then normalize X"
   ]
  },
  {
   "cell_type": "code",
   "execution_count": 430,
   "metadata": {},
   "outputs": [],
   "source": [
    "mean = np.mean(X, axis=0)\n",
    "std = np.std(X, axis=0)\n",
    "X = (X - mean)/std"
   ]
  },
  {
   "cell_type": "markdown",
   "metadata": {},
   "source": [
    "## Shuffle And Split\n",
    "\n",
    "Shuffle X and y simultaneously. \n",
    "\n",
    "Split X into train_X and val_X, y into train_y and val_y"
   ]
  },
  {
   "cell_type": "code",
   "execution_count": 431,
   "metadata": {},
   "outputs": [],
   "source": [
    "perm = np.random.permutation(X.shape[0])\n",
    "shuffled_X = X[perm, :]\n",
    "shuffled_y = y[perm]\n",
    "train_size = math.floor(0.8 * X.shape[0])\n",
    "train_X = shuffled_X[:train_size, :]\n",
    "val_X = shuffled_X[train_size:, :]\n",
    "train_y = shuffled_y[:train_size]\n",
    "val_y = shuffled_y[train_size:]"
   ]
  },
  {
   "cell_type": "markdown",
   "metadata": {},
   "source": [
    "## Training\n",
    "\n",
    "Train a linear regression model using train_X"
   ]
  },
  {
   "cell_type": "code",
   "execution_count": 432,
   "metadata": {
    "tags": []
   },
   "outputs": [],
   "source": [
    "train_loss = []\n",
    "val_loss = []\n",
    "def calc_loss(model, X, y):\n",
    "    pred = model.predict(X)\n",
    "    return np.inner(pred - y, pred - y) / (2 * X.shape[0])\n",
    "class LinearRegressor:\n",
    "    def predict(self, X):\n",
    "        X = np.hstack((np.ones([X.shape[0], 1]), X)) # 左侧补一列常数 feature 1\n",
    "        return np.squeeze(np.dot(X, self.theta))\n",
    "    def train(self, X, y, iters=2000, lr=0.03):\n",
    "        X = np.hstack((np.ones([X.shape[0], 1]), X))\n",
    "        self.theta = np.random.normal(0, 1, (X.shape[1], 1))\n",
    "        for i in range(iters):\n",
    "            pred = np.squeeze(np.dot(X, self.theta))\n",
    "            grad = np.dot(X.T, np.expand_dims(pred - y, 1)) / X.shape[0]\n",
    "            self.theta -= lr * grad\n",
    "            train_loss.append(calc_loss(self, train_X, train_y))\n",
    "            val_loss.append(calc_loss(self, val_X, val_y))\n",
    "model = LinearRegressor()\n",
    "model.train(train_X, train_y)\n"
   ]
  },
  {
   "cell_type": "markdown",
   "metadata": {},
   "source": [
    "# Plot the loss curve"
   ]
  },
  {
   "cell_type": "code",
   "execution_count": 433,
   "metadata": {
    "tags": []
   },
   "outputs": [
    {
     "output_type": "display_data",
     "data": {
      "text/plain": "<Figure size 432x288 with 1 Axes>",
      "image/svg+xml": "<?xml version=\"1.0\" encoding=\"utf-8\" standalone=\"no\"?>\n<!DOCTYPE svg PUBLIC \"-//W3C//DTD SVG 1.1//EN\"\n  \"http://www.w3.org/Graphics/SVG/1.1/DTD/svg11.dtd\">\n<!-- Created with matplotlib (https://matplotlib.org/) -->\n<svg height=\"248.518125pt\" version=\"1.1\" viewBox=\"0 0 375.2875 248.518125\" width=\"375.2875pt\" xmlns=\"http://www.w3.org/2000/svg\" xmlns:xlink=\"http://www.w3.org/1999/xlink\">\n <defs>\n  <style type=\"text/css\">\n*{stroke-linecap:butt;stroke-linejoin:round;}\n  </style>\n </defs>\n <g id=\"figure_1\">\n  <g id=\"patch_1\">\n   <path d=\"M 0 248.518125 \nL 375.2875 248.518125 \nL 375.2875 0 \nL 0 0 \nz\n\" style=\"fill:none;\"/>\n  </g>\n  <g id=\"axes_1\">\n   <g id=\"patch_2\">\n    <path d=\"M 33.2875 224.64 \nL 368.0875 224.64 \nL 368.0875 7.2 \nL 33.2875 7.2 \nz\n\" style=\"fill:#ffffff;\"/>\n   </g>\n   <g id=\"matplotlib.axis_1\">\n    <g id=\"xtick_1\">\n     <g id=\"line2d_1\">\n      <defs>\n       <path d=\"M 0 0 \nL 0 3.5 \n\" id=\"m7a59852508\" style=\"stroke:#000000;stroke-width:0.8;\"/>\n      </defs>\n      <g>\n       <use style=\"stroke:#000000;stroke-width:0.8;\" x=\"48.505682\" xlink:href=\"#m7a59852508\" y=\"224.64\"/>\n      </g>\n     </g>\n     <g id=\"text_1\">\n      <!-- 0 -->\n      <defs>\n       <path d=\"M 31.78125 66.40625 \nQ 24.171875 66.40625 20.328125 58.90625 \nQ 16.5 51.421875 16.5 36.375 \nQ 16.5 21.390625 20.328125 13.890625 \nQ 24.171875 6.390625 31.78125 6.390625 \nQ 39.453125 6.390625 43.28125 13.890625 \nQ 47.125 21.390625 47.125 36.375 \nQ 47.125 51.421875 43.28125 58.90625 \nQ 39.453125 66.40625 31.78125 66.40625 \nz\nM 31.78125 74.21875 \nQ 44.046875 74.21875 50.515625 64.515625 \nQ 56.984375 54.828125 56.984375 36.375 \nQ 56.984375 17.96875 50.515625 8.265625 \nQ 44.046875 -1.421875 31.78125 -1.421875 \nQ 19.53125 -1.421875 13.0625 8.265625 \nQ 6.59375 17.96875 6.59375 36.375 \nQ 6.59375 54.828125 13.0625 64.515625 \nQ 19.53125 74.21875 31.78125 74.21875 \nz\n\" id=\"DejaVuSans-48\"/>\n      </defs>\n      <g transform=\"translate(45.324432 239.238437)scale(0.1 -0.1)\">\n       <use xlink:href=\"#DejaVuSans-48\"/>\n      </g>\n     </g>\n    </g>\n    <g id=\"xtick_2\">\n     <g id=\"line2d_2\">\n      <g>\n       <use style=\"stroke:#000000;stroke-width:0.8;\" x=\"86.570169\" xlink:href=\"#m7a59852508\" y=\"224.64\"/>\n      </g>\n     </g>\n     <g id=\"text_2\">\n      <!-- 250 -->\n      <defs>\n       <path d=\"M 19.1875 8.296875 \nL 53.609375 8.296875 \nL 53.609375 0 \nL 7.328125 0 \nL 7.328125 8.296875 \nQ 12.9375 14.109375 22.625 23.890625 \nQ 32.328125 33.6875 34.8125 36.53125 \nQ 39.546875 41.84375 41.421875 45.53125 \nQ 43.3125 49.21875 43.3125 52.78125 \nQ 43.3125 58.59375 39.234375 62.25 \nQ 35.15625 65.921875 28.609375 65.921875 \nQ 23.96875 65.921875 18.8125 64.3125 \nQ 13.671875 62.703125 7.8125 59.421875 \nL 7.8125 69.390625 \nQ 13.765625 71.78125 18.9375 73 \nQ 24.125 74.21875 28.421875 74.21875 \nQ 39.75 74.21875 46.484375 68.546875 \nQ 53.21875 62.890625 53.21875 53.421875 \nQ 53.21875 48.921875 51.53125 44.890625 \nQ 49.859375 40.875 45.40625 35.40625 \nQ 44.1875 33.984375 37.640625 27.21875 \nQ 31.109375 20.453125 19.1875 8.296875 \nz\n\" id=\"DejaVuSans-50\"/>\n       <path d=\"M 10.796875 72.90625 \nL 49.515625 72.90625 \nL 49.515625 64.59375 \nL 19.828125 64.59375 \nL 19.828125 46.734375 \nQ 21.96875 47.46875 24.109375 47.828125 \nQ 26.265625 48.1875 28.421875 48.1875 \nQ 40.625 48.1875 47.75 41.5 \nQ 54.890625 34.8125 54.890625 23.390625 \nQ 54.890625 11.625 47.5625 5.09375 \nQ 40.234375 -1.421875 26.90625 -1.421875 \nQ 22.3125 -1.421875 17.546875 -0.640625 \nQ 12.796875 0.140625 7.71875 1.703125 \nL 7.71875 11.625 \nQ 12.109375 9.234375 16.796875 8.0625 \nQ 21.484375 6.890625 26.703125 6.890625 \nQ 35.15625 6.890625 40.078125 11.328125 \nQ 45.015625 15.765625 45.015625 23.390625 \nQ 45.015625 31 40.078125 35.4375 \nQ 35.15625 39.890625 26.703125 39.890625 \nQ 22.75 39.890625 18.8125 39.015625 \nQ 14.890625 38.140625 10.796875 36.28125 \nz\n\" id=\"DejaVuSans-53\"/>\n      </defs>\n      <g transform=\"translate(77.026419 239.238437)scale(0.1 -0.1)\">\n       <use xlink:href=\"#DejaVuSans-50\"/>\n       <use x=\"63.623047\" xlink:href=\"#DejaVuSans-53\"/>\n       <use x=\"127.246094\" xlink:href=\"#DejaVuSans-48\"/>\n      </g>\n     </g>\n    </g>\n    <g id=\"xtick_3\">\n     <g id=\"line2d_3\">\n      <g>\n       <use style=\"stroke:#000000;stroke-width:0.8;\" x=\"124.634655\" xlink:href=\"#m7a59852508\" y=\"224.64\"/>\n      </g>\n     </g>\n     <g id=\"text_3\">\n      <!-- 500 -->\n      <g transform=\"translate(115.090905 239.238437)scale(0.1 -0.1)\">\n       <use xlink:href=\"#DejaVuSans-53\"/>\n       <use x=\"63.623047\" xlink:href=\"#DejaVuSans-48\"/>\n       <use x=\"127.246094\" xlink:href=\"#DejaVuSans-48\"/>\n      </g>\n     </g>\n    </g>\n    <g id=\"xtick_4\">\n     <g id=\"line2d_4\">\n      <g>\n       <use style=\"stroke:#000000;stroke-width:0.8;\" x=\"162.699142\" xlink:href=\"#m7a59852508\" y=\"224.64\"/>\n      </g>\n     </g>\n     <g id=\"text_4\">\n      <!-- 750 -->\n      <defs>\n       <path d=\"M 8.203125 72.90625 \nL 55.078125 72.90625 \nL 55.078125 68.703125 \nL 28.609375 0 \nL 18.3125 0 \nL 43.21875 64.59375 \nL 8.203125 64.59375 \nz\n\" id=\"DejaVuSans-55\"/>\n      </defs>\n      <g transform=\"translate(153.155392 239.238437)scale(0.1 -0.1)\">\n       <use xlink:href=\"#DejaVuSans-55\"/>\n       <use x=\"63.623047\" xlink:href=\"#DejaVuSans-53\"/>\n       <use x=\"127.246094\" xlink:href=\"#DejaVuSans-48\"/>\n      </g>\n     </g>\n    </g>\n    <g id=\"xtick_5\">\n     <g id=\"line2d_5\">\n      <g>\n       <use style=\"stroke:#000000;stroke-width:0.8;\" x=\"200.763629\" xlink:href=\"#m7a59852508\" y=\"224.64\"/>\n      </g>\n     </g>\n     <g id=\"text_5\">\n      <!-- 1000 -->\n      <defs>\n       <path d=\"M 12.40625 8.296875 \nL 28.515625 8.296875 \nL 28.515625 63.921875 \nL 10.984375 60.40625 \nL 10.984375 69.390625 \nL 28.421875 72.90625 \nL 38.28125 72.90625 \nL 38.28125 8.296875 \nL 54.390625 8.296875 \nL 54.390625 0 \nL 12.40625 0 \nz\n\" id=\"DejaVuSans-49\"/>\n      </defs>\n      <g transform=\"translate(188.038629 239.238437)scale(0.1 -0.1)\">\n       <use xlink:href=\"#DejaVuSans-49\"/>\n       <use x=\"63.623047\" xlink:href=\"#DejaVuSans-48\"/>\n       <use x=\"127.246094\" xlink:href=\"#DejaVuSans-48\"/>\n       <use x=\"190.869141\" xlink:href=\"#DejaVuSans-48\"/>\n      </g>\n     </g>\n    </g>\n    <g id=\"xtick_6\">\n     <g id=\"line2d_6\">\n      <g>\n       <use style=\"stroke:#000000;stroke-width:0.8;\" x=\"238.828116\" xlink:href=\"#m7a59852508\" y=\"224.64\"/>\n      </g>\n     </g>\n     <g id=\"text_6\">\n      <!-- 1250 -->\n      <g transform=\"translate(226.103116 239.238437)scale(0.1 -0.1)\">\n       <use xlink:href=\"#DejaVuSans-49\"/>\n       <use x=\"63.623047\" xlink:href=\"#DejaVuSans-50\"/>\n       <use x=\"127.246094\" xlink:href=\"#DejaVuSans-53\"/>\n       <use x=\"190.869141\" xlink:href=\"#DejaVuSans-48\"/>\n      </g>\n     </g>\n    </g>\n    <g id=\"xtick_7\">\n     <g id=\"line2d_7\">\n      <g>\n       <use style=\"stroke:#000000;stroke-width:0.8;\" x=\"276.892603\" xlink:href=\"#m7a59852508\" y=\"224.64\"/>\n      </g>\n     </g>\n     <g id=\"text_7\">\n      <!-- 1500 -->\n      <g transform=\"translate(264.167603 239.238437)scale(0.1 -0.1)\">\n       <use xlink:href=\"#DejaVuSans-49\"/>\n       <use x=\"63.623047\" xlink:href=\"#DejaVuSans-53\"/>\n       <use x=\"127.246094\" xlink:href=\"#DejaVuSans-48\"/>\n       <use x=\"190.869141\" xlink:href=\"#DejaVuSans-48\"/>\n      </g>\n     </g>\n    </g>\n    <g id=\"xtick_8\">\n     <g id=\"line2d_8\">\n      <g>\n       <use style=\"stroke:#000000;stroke-width:0.8;\" x=\"314.957089\" xlink:href=\"#m7a59852508\" y=\"224.64\"/>\n      </g>\n     </g>\n     <g id=\"text_8\">\n      <!-- 1750 -->\n      <g transform=\"translate(302.232089 239.238437)scale(0.1 -0.1)\">\n       <use xlink:href=\"#DejaVuSans-49\"/>\n       <use x=\"63.623047\" xlink:href=\"#DejaVuSans-55\"/>\n       <use x=\"127.246094\" xlink:href=\"#DejaVuSans-53\"/>\n       <use x=\"190.869141\" xlink:href=\"#DejaVuSans-48\"/>\n      </g>\n     </g>\n    </g>\n    <g id=\"xtick_9\">\n     <g id=\"line2d_9\">\n      <g>\n       <use style=\"stroke:#000000;stroke-width:0.8;\" x=\"353.021576\" xlink:href=\"#m7a59852508\" y=\"224.64\"/>\n      </g>\n     </g>\n     <g id=\"text_9\">\n      <!-- 2000 -->\n      <g transform=\"translate(340.296576 239.238437)scale(0.1 -0.1)\">\n       <use xlink:href=\"#DejaVuSans-50\"/>\n       <use x=\"63.623047\" xlink:href=\"#DejaVuSans-48\"/>\n       <use x=\"127.246094\" xlink:href=\"#DejaVuSans-48\"/>\n       <use x=\"190.869141\" xlink:href=\"#DejaVuSans-48\"/>\n      </g>\n     </g>\n    </g>\n   </g>\n   <g id=\"matplotlib.axis_2\">\n    <g id=\"ytick_1\">\n     <g id=\"line2d_10\">\n      <defs>\n       <path d=\"M 0 0 \nL -3.5 0 \n\" id=\"m5f843ca5ce\" style=\"stroke:#000000;stroke-width:0.8;\"/>\n      </defs>\n      <g>\n       <use style=\"stroke:#000000;stroke-width:0.8;\" x=\"33.2875\" xlink:href=\"#m5f843ca5ce\" y=\"192.236268\"/>\n      </g>\n     </g>\n     <g id=\"text_10\">\n      <!-- 50 -->\n      <g transform=\"translate(13.5625 196.035487)scale(0.1 -0.1)\">\n       <use xlink:href=\"#DejaVuSans-53\"/>\n       <use x=\"63.623047\" xlink:href=\"#DejaVuSans-48\"/>\n      </g>\n     </g>\n    </g>\n    <g id=\"ytick_2\">\n     <g id=\"line2d_11\">\n      <g>\n       <use style=\"stroke:#000000;stroke-width:0.8;\" x=\"33.2875\" xlink:href=\"#m5f843ca5ce\" y=\"159.149328\"/>\n      </g>\n     </g>\n     <g id=\"text_11\">\n      <!-- 100 -->\n      <g transform=\"translate(7.2 162.948547)scale(0.1 -0.1)\">\n       <use xlink:href=\"#DejaVuSans-49\"/>\n       <use x=\"63.623047\" xlink:href=\"#DejaVuSans-48\"/>\n       <use x=\"127.246094\" xlink:href=\"#DejaVuSans-48\"/>\n      </g>\n     </g>\n    </g>\n    <g id=\"ytick_3\">\n     <g id=\"line2d_12\">\n      <g>\n       <use style=\"stroke:#000000;stroke-width:0.8;\" x=\"33.2875\" xlink:href=\"#m5f843ca5ce\" y=\"126.062388\"/>\n      </g>\n     </g>\n     <g id=\"text_12\">\n      <!-- 150 -->\n      <g transform=\"translate(7.2 129.861607)scale(0.1 -0.1)\">\n       <use xlink:href=\"#DejaVuSans-49\"/>\n       <use x=\"63.623047\" xlink:href=\"#DejaVuSans-53\"/>\n       <use x=\"127.246094\" xlink:href=\"#DejaVuSans-48\"/>\n      </g>\n     </g>\n    </g>\n    <g id=\"ytick_4\">\n     <g id=\"line2d_13\">\n      <g>\n       <use style=\"stroke:#000000;stroke-width:0.8;\" x=\"33.2875\" xlink:href=\"#m5f843ca5ce\" y=\"92.975448\"/>\n      </g>\n     </g>\n     <g id=\"text_13\">\n      <!-- 200 -->\n      <g transform=\"translate(7.2 96.774667)scale(0.1 -0.1)\">\n       <use xlink:href=\"#DejaVuSans-50\"/>\n       <use x=\"63.623047\" xlink:href=\"#DejaVuSans-48\"/>\n       <use x=\"127.246094\" xlink:href=\"#DejaVuSans-48\"/>\n      </g>\n     </g>\n    </g>\n    <g id=\"ytick_5\">\n     <g id=\"line2d_14\">\n      <g>\n       <use style=\"stroke:#000000;stroke-width:0.8;\" x=\"33.2875\" xlink:href=\"#m5f843ca5ce\" y=\"59.888509\"/>\n      </g>\n     </g>\n     <g id=\"text_14\">\n      <!-- 250 -->\n      <g transform=\"translate(7.2 63.687727)scale(0.1 -0.1)\">\n       <use xlink:href=\"#DejaVuSans-50\"/>\n       <use x=\"63.623047\" xlink:href=\"#DejaVuSans-53\"/>\n       <use x=\"127.246094\" xlink:href=\"#DejaVuSans-48\"/>\n      </g>\n     </g>\n    </g>\n    <g id=\"ytick_6\">\n     <g id=\"line2d_15\">\n      <g>\n       <use style=\"stroke:#000000;stroke-width:0.8;\" x=\"33.2875\" xlink:href=\"#m5f843ca5ce\" y=\"26.801569\"/>\n      </g>\n     </g>\n     <g id=\"text_15\">\n      <!-- 300 -->\n      <defs>\n       <path d=\"M 40.578125 39.3125 \nQ 47.65625 37.796875 51.625 33 \nQ 55.609375 28.21875 55.609375 21.1875 \nQ 55.609375 10.40625 48.1875 4.484375 \nQ 40.765625 -1.421875 27.09375 -1.421875 \nQ 22.515625 -1.421875 17.65625 -0.515625 \nQ 12.796875 0.390625 7.625 2.203125 \nL 7.625 11.71875 \nQ 11.71875 9.328125 16.59375 8.109375 \nQ 21.484375 6.890625 26.8125 6.890625 \nQ 36.078125 6.890625 40.9375 10.546875 \nQ 45.796875 14.203125 45.796875 21.1875 \nQ 45.796875 27.640625 41.28125 31.265625 \nQ 36.765625 34.90625 28.71875 34.90625 \nL 20.21875 34.90625 \nL 20.21875 43.015625 \nL 29.109375 43.015625 \nQ 36.375 43.015625 40.234375 45.921875 \nQ 44.09375 48.828125 44.09375 54.296875 \nQ 44.09375 59.90625 40.109375 62.90625 \nQ 36.140625 65.921875 28.71875 65.921875 \nQ 24.65625 65.921875 20.015625 65.03125 \nQ 15.375 64.15625 9.8125 62.3125 \nL 9.8125 71.09375 \nQ 15.4375 72.65625 20.34375 73.4375 \nQ 25.25 74.21875 29.59375 74.21875 \nQ 40.828125 74.21875 47.359375 69.109375 \nQ 53.90625 64.015625 53.90625 55.328125 \nQ 53.90625 49.265625 50.4375 45.09375 \nQ 46.96875 40.921875 40.578125 39.3125 \nz\n\" id=\"DejaVuSans-51\"/>\n      </defs>\n      <g transform=\"translate(7.2 30.600787)scale(0.1 -0.1)\">\n       <use xlink:href=\"#DejaVuSans-51\"/>\n       <use x=\"63.623047\" xlink:href=\"#DejaVuSans-48\"/>\n       <use x=\"127.246094\" xlink:href=\"#DejaVuSans-48\"/>\n      </g>\n     </g>\n    </g>\n   </g>\n   <g id=\"line2d_16\">\n    <path clip-path=\"url(#pede7b25fc2)\" d=\"M 48.505682 27.962852 \nL 48.962456 65.54521 \nL 49.571487 96.980863 \nL 50.332777 125.290406 \nL 51.094067 145.824081 \nL 51.855357 160.959386 \nL 52.616646 172.215746 \nL 53.377936 180.642539 \nL 54.139226 186.988242 \nL 54.900516 191.795312 \nL 55.814063 196.083469 \nL 56.727611 199.212771 \nL 57.641159 201.524292 \nL 58.554706 203.25576 \nL 59.620512 204.761532 \nL 60.686318 205.882841 \nL 61.904381 206.845649 \nL 63.426961 207.735652 \nL 65.254056 208.517662 \nL 67.537925 209.237312 \nL 70.583084 209.946055 \nL 74.541791 210.62925 \nL 79.718561 211.290704 \nL 86.417911 211.914727 \nL 95.096614 212.489409 \nL 106.51596 213.008875 \nL 121.741754 213.464525 \nL 142.753351 213.856389 \nL 173.357198 214.188465 \nL 221.166194 214.465251 \nL 301.253874 214.683528 \nL 352.869318 214.756364 \nL 352.869318 214.756364 \n\" style=\"fill:none;stroke:#1f77b4;stroke-linecap:square;stroke-width:1.5;\"/>\n   </g>\n   <g id=\"line2d_17\">\n    <path clip-path=\"url(#pede7b25fc2)\" d=\"M 48.505682 17.083636 \nL 48.810198 46.448368 \nL 49.41923 80.779934 \nL 50.180519 111.393982 \nL 50.941809 133.849389 \nL 51.703099 150.600754 \nL 52.464388 163.203261 \nL 53.225678 172.744679 \nL 53.986968 180.011338 \nL 54.900516 186.529219 \nL 55.814063 191.311171 \nL 56.727611 194.858638 \nL 57.641159 197.523551 \nL 58.554706 199.553775 \nL 59.620512 201.350898 \nL 60.686318 202.713294 \nL 61.904381 203.902512 \nL 63.274703 204.920906 \nL 64.94954 205.863621 \nL 66.928893 206.705071 \nL 69.365021 207.490286 \nL 72.41018 208.234672 \nL 76.368886 208.962467 \nL 81.393398 209.646072 \nL 87.788232 210.276442 \nL 95.857903 210.837625 \nL 106.363702 211.335407 \nL 120.523691 211.770407 \nL 140.317224 212.140276 \nL 169.855266 212.450618 \nL 217.512003 212.706773 \nL 299.579037 212.901911 \nL 352.869318 212.960567 \nL 352.869318 212.960567 \n\" style=\"fill:none;stroke:#ff7f0e;stroke-linecap:square;stroke-width:1.5;\"/>\n   </g>\n   <g id=\"patch_3\">\n    <path d=\"M 33.2875 224.64 \nL 33.2875 7.2 \n\" style=\"fill:none;stroke:#000000;stroke-linecap:square;stroke-linejoin:miter;stroke-width:0.8;\"/>\n   </g>\n   <g id=\"patch_4\">\n    <path d=\"M 368.0875 224.64 \nL 368.0875 7.2 \n\" style=\"fill:none;stroke:#000000;stroke-linecap:square;stroke-linejoin:miter;stroke-width:0.8;\"/>\n   </g>\n   <g id=\"patch_5\">\n    <path d=\"M 33.2875 224.64 \nL 368.0875 224.64 \n\" style=\"fill:none;stroke:#000000;stroke-linecap:square;stroke-linejoin:miter;stroke-width:0.8;\"/>\n   </g>\n   <g id=\"patch_6\">\n    <path d=\"M 33.2875 7.2 \nL 368.0875 7.2 \n\" style=\"fill:none;stroke:#000000;stroke-linecap:square;stroke-linejoin:miter;stroke-width:0.8;\"/>\n   </g>\n  </g>\n </g>\n <defs>\n  <clipPath id=\"pede7b25fc2\">\n   <rect height=\"217.44\" width=\"334.8\" x=\"33.2875\" y=\"7.2\"/>\n  </clipPath>\n </defs>\n</svg>\n",
      "image/png": "[encoded data removed]"
     },
     "metadata": {
      "needs_background": "light"
     }
    },
    {
     "output_type": "stream",
     "name": "stdout",
     "text": "Last val_loss: 18.68205505614183\n"
    }
   ],
   "source": [
    "import matplotlib.pyplot as plt\n",
    "plt.plot(range(len(train_loss)), train_loss)\n",
    "plt.plot(range(len(val_loss)), val_loss)\n",
    "plt.show()\n",
    "print(\"Last val_loss: {}\".format(val_loss[-1]))"
   ]
  },
  {
   "cell_type": "markdown",
   "metadata": {},
   "source": [
    "## Preprocess the test data\n",
    "\n",
    "1. Convert test_data into n*162 numpy\n",
    "2. normalize"
   ]
  },
  {
   "cell_type": "code",
   "execution_count": 434,
   "metadata": {
    "tags": []
   },
   "outputs": [],
   "source": [
    "test_X = raw_test_data.iloc[:, 2:].to_numpy().reshape(-1, 162).astype(float) \n",
    "test_X = (test_X - mean) / std"
   ]
  },
  {
   "cell_type": "code",
   "execution_count": 435,
   "metadata": {
    "tags": []
   },
   "outputs": [],
   "source": [
    "final_model = LinearRegressor()\n",
    "final_model.train(X, y)\n",
    "test_pred = final_model.predict(test_X)"
   ]
  },
  {
   "cell_type": "code",
   "execution_count": 436,
   "metadata": {},
   "outputs": [
    {
     "output_type": "execute_result",
     "data": {
      "text/plain": "          0          1\n0      id_0   5.123752\n1      id_1  17.680060\n2      id_2  24.164032\n3      id_3   7.994766\n4      id_4  27.336055\n..      ...        ...\n235  id_235  41.559261\n236  id_236  68.630544\n237  id_237  40.456429\n238  id_238  12.548534\n239  id_239  17.226687\n\n[240 rows x 2 columns]",
      "text/html": "<div>\n<style scoped>\n    .dataframe tbody tr th:only-of-type {\n        vertical-align: middle;\n    }\n\n    .dataframe tbody tr th {\n        vertical-align: top;\n    }\n\n    .dataframe thead th {\n        text-align: right;\n    }\n</style>\n<table border=\"1\" class=\"dataframe\">\n  <thead>\n    <tr style=\"text-align: right;\">\n      <th></th>\n      <th>0</th>\n      <th>1</th>\n    </tr>\n  </thead>\n  <tbody>\n    <tr>\n      <th>0</th>\n      <td>id_0</td>\n      <td>5.123752</td>\n    </tr>\n    <tr>\n      <th>1</th>\n      <td>id_1</td>\n      <td>17.680060</td>\n    </tr>\n    <tr>\n      <th>2</th>\n      <td>id_2</td>\n      <td>24.164032</td>\n    </tr>\n    <tr>\n      <th>3</th>\n      <td>id_3</td>\n      <td>7.994766</td>\n    </tr>\n    <tr>\n      <th>4</th>\n      <td>id_4</td>\n      <td>27.336055</td>\n    </tr>\n    <tr>\n      <th>...</th>\n      <td>...</td>\n      <td>...</td>\n    </tr>\n    <tr>\n      <th>235</th>\n      <td>id_235</td>\n      <td>41.559261</td>\n    </tr>\n    <tr>\n      <th>236</th>\n      <td>id_236</td>\n      <td>68.630544</td>\n    </tr>\n    <tr>\n      <th>237</th>\n      <td>id_237</td>\n      <td>40.456429</td>\n    </tr>\n    <tr>\n      <th>238</th>\n      <td>id_238</td>\n      <td>12.548534</td>\n    </tr>\n    <tr>\n      <th>239</th>\n      <td>id_239</td>\n      <td>17.226687</td>\n    </tr>\n  </tbody>\n</table>\n<p>240 rows × 2 columns</p>\n</div>"
     },
     "metadata": {},
     "execution_count": 436
    }
   ],
   "source": [
    "test_pred_list = [(\"id_{}\".format(i), test_pred[i]) for i in range(test_X.shape[0])]\n",
    "test_pred_df = pd.DataFrame(test_pred_list)\n",
    "test_pred_df"
   ]
  },
  {
   "cell_type": "code",
   "execution_count": 437,
   "metadata": {},
   "outputs": [],
   "source": [
    "output_path = \"submit.csv\"\n",
    "test_pred_df.to_csv(output_path, header=[\"id\", \"value\"], index=False)"
   ]
  },
  {
   "cell_type": "code",
   "execution_count": null,
   "metadata": {},
   "outputs": [],
   "source": []
  }
 ],
 "metadata": {
  "language_info": {
   "codemirror_mode": {
    "name": "ipython",
    "version": 3
   },
   "file_extension": ".py",
   "mimetype": "text/x-python",
   "name": "python",
   "nbconvert_exporter": "python",
   "pygments_lexer": "ipython3",
   "version": "3.7.7-final"
  },
  "orig_nbformat": 2,
  "kernelspec": {
   "name": "python3",
   "display_name": "Python 3"
  }
 },
 "nbformat": 4,
 "nbformat_minor": 2
}